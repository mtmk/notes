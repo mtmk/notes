{
 "cells": [
  {
   "cell_type": "code",
   "execution_count": 1,
   "id": "0b5de856-90c7-4419-a952-98a29cb0423c",
   "metadata": {},
   "outputs": [],
   "source": [
    "import numpy;"
   ]
  },
  {
   "cell_type": "markdown",
   "id": "26f95179-154a-4883-9aed-964fc84c3533",
   "metadata": {},
   "source": [
    "# stats"
   ]
  },
  {
   "cell_type": "code",
   "execution_count": 2,
   "id": "7e2d5c4c-2cc9-4001-bff3-85d6c86b9cec",
   "metadata": {},
   "outputs": [
    {
     "name": "stdout",
     "output_type": "stream",
     "text": [
      "3.0\n"
     ]
    }
   ],
   "source": [
    "a=[1,2,3,4,5]\n",
    "m=numpy.mean(a)\n",
    "print(m)"
   ]
  },
  {
   "cell_type": "code",
   "execution_count": null,
   "id": "cec8bbc2-5078-47ae-a11b-1a523f663618",
   "metadata": {},
   "outputs": [],
   "source": []
  }
 ],
 "metadata": {
  "kernelspec": {
   "display_name": "Python 3 (ipykernel)",
   "language": "python",
   "name": "python3"
  },
  "language_info": {
   "codemirror_mode": {
    "name": "ipython",
    "version": 3
   },
   "file_extension": ".py",
   "mimetype": "text/x-python",
   "name": "python",
   "nbconvert_exporter": "python",
   "pygments_lexer": "ipython3",
   "version": "3.11.3"
  }
 },
 "nbformat": 4,
 "nbformat_minor": 5
}
