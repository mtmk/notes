{
 "cells": [
  {
   "cell_type": "code",
   "execution_count": 1,
   "id": "0b5de856-90c7-4419-a952-98a29cb0423c",
   "metadata": {
    "ExecuteTime": {
     "end_time": "2023-09-19T17:16:38.936597800Z",
     "start_time": "2023-09-19T17:16:38.532398700Z"
    }
   },
   "outputs": [],
   "source": [
    "import numpy;\n",
    "import scipy;\n",
    "import statistics as st\n",
    "import pandas as pd"
   ]
  },
  {
   "cell_type": "markdown",
   "id": "26f95179-154a-4883-9aed-964fc84c3533",
   "metadata": {},
   "source": [
    "# stats\n",
    "These are measures of central tendency because each attempts to find the “center” of a data set."
   ]
  },
  {
   "cell_type": "code",
   "execution_count": 2,
   "id": "b19540b3-914d-455b-9209-857e34208df4",
   "metadata": {
    "ExecuteTime": {
     "end_time": "2023-09-19T17:16:42.542872800Z",
     "start_time": "2023-09-19T17:16:42.518863Z"
    }
   },
   "outputs": [],
   "source": [
    "a=[1,2,3,4,50]"
   ]
  },
  {
   "cell_type": "markdown",
   "id": "9b84f483-7b55-413b-94cd-5703538f853f",
   "metadata": {},
   "source": [
    "### mean\n",
    "also called the average, is a measure of central tendency of a group of values. To calculate the mean, we take the sum of all values and divide by the number of values."
   ]
  },
  {
   "cell_type": "code",
   "execution_count": 3,
   "id": "7e2d5c4c-2cc9-4001-bff3-85d6c86b9cec",
   "metadata": {
    "ExecuteTime": {
     "end_time": "2023-09-19T17:16:48.610856300Z",
     "start_time": "2023-09-19T17:16:48.587493300Z"
    }
   },
   "outputs": [
    {
     "name": "stdout",
     "output_type": "stream",
     "text": [
      "12.0\n"
     ]
    }
   ],
   "source": [
    "m=numpy.mean(a)\n",
    "print(m)"
   ]
  },
  {
   "cell_type": "markdown",
   "id": "61590e7f-a359-429e-bf69-742d5cf3560f",
   "metadata": {},
   "source": [
    "### median\n",
    "is a measure of central tendency. It is the middle value in a set of numbers arranged from least to greatest.\n"
   ]
  },
  {
   "cell_type": "code",
   "execution_count": 4,
   "id": "cec8bbc2-5078-47ae-a11b-1a523f663618",
   "metadata": {
    "ExecuteTime": {
     "end_time": "2023-09-19T17:16:50.699695100Z",
     "start_time": "2023-09-19T17:16:50.678121400Z"
    }
   },
   "outputs": [
    {
     "name": "stdout",
     "output_type": "stream",
     "text": [
      "3.0\n"
     ]
    }
   ],
   "source": [
    "m=numpy.median(a)\n",
    "print(m)"
   ]
  },
  {
   "cell_type": "markdown",
   "id": "fb528b94-e380-477e-abd5-0da8b75a217a",
   "metadata": {},
   "source": [
    "## mode\n",
    "which is the value in a data set that occurs most frequently."
   ]
  },
  {
   "cell_type": "code",
   "execution_count": 5,
   "id": "03c6ebe9-e35c-4010-a66f-ecb411cad085",
   "metadata": {
    "ExecuteTime": {
     "end_time": "2023-09-19T17:16:54.145058800Z",
     "start_time": "2023-09-19T17:16:53.055033200Z"
    }
   },
   "outputs": [
    {
     "name": "stdout",
     "output_type": "stream",
     "text": [
      "6.333333333333333\n",
      "7.0\n",
      "ModeResult(mode=9, count=9)\n"
     ]
    },
    {
     "data": {
      "text/plain": "<Figure size 640x480 with 1 Axes>",
      "image/png": "[encoded data removed]"
     },
     "metadata": {},
     "output_type": "display_data"
    }
   ],
   "source": [
    "a=[1,2,2,3,3,3,4,4,4,4,5,5,5,5,5,6,6,6,6,6,6,7,7,7,7,7,7,7,8,8,8,8,8,8,8,8,9,9,9,9,9,9,9,9,9]\n",
    "\n",
    "df=pd.DataFrame({'vals':a})\n",
    "df['vals'].value_counts().sort_index().plot(kind='bar')\n",
    "\n",
    "print(numpy.mean(a))\n",
    "print(numpy.median(a))\n",
    "print(scipy.stats.mode(a))"
   ]
  },
  {
   "cell_type": "code",
   "execution_count": 6,
   "id": "055dc128-125e-4f78-b272-4214b9f8afe3",
   "metadata": {
    "ExecuteTime": {
     "end_time": "2023-09-19T17:16:56.441380900Z",
     "start_time": "2023-09-19T17:16:56.432318800Z"
    }
   },
   "outputs": [
    {
     "name": "stdout",
     "output_type": "stream",
     "text": [
      "Mean is : 3\n",
      "Median is : 3\n"
     ]
    }
   ],
   "source": [
    "data = [1, 2, 3, 4, 5]\n",
    "\n",
    "print(\"Mean is :\", round(st.mean(data),5))\n",
    "print(\"Median is :\", round(st.median(data),5))"
   ]
  },
  {
   "cell_type": "markdown",
   "source": [
    "## iqr\n",
    "The IQR is the difference between the first quartile and the third quartile."
   ],
   "metadata": {
    "collapsed": false
   },
   "id": "bd7e80ae86f8fa02"
  },
  {
   "cell_type": "code",
   "execution_count": null,
   "outputs": [],
   "source": [],
   "metadata": {
    "collapsed": false
   },
   "id": "73775bf52b84aa09"
  }
 ],
 "metadata": {
  "kernelspec": {
   "display_name": "Python 3 (ipykernel)",
   "language": "python",
   "name": "python3"
  },
  "language_info": {
   "codemirror_mode": {
    "name": "ipython",
    "version": 3
   },
   "file_extension": ".py",
   "mimetype": "text/x-python",
   "name": "python",
   "nbconvert_exporter": "python",
   "pygments_lexer": "ipython3",
   "version": "3.11.3"
  }
 },
 "nbformat": 4,
 "nbformat_minor": 5
}
